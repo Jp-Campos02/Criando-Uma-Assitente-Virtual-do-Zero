{
  "nbformat": 4,
  "nbformat_minor": 0,
  "metadata": {
    "colab": {
      "provenance": [],
      "authorship_tag": "ABX9TyPE2imPTAP0vlpj+Xc2+w5h",
      "include_colab_link": true
    },
    "kernelspec": {
      "name": "python3",
      "display_name": "Python 3"
    },
    "language_info": {
      "name": "python"
    }
  },
  "cells": [
    {
      "cell_type": "markdown",
      "metadata": {
        "id": "view-in-github",
        "colab_type": "text"
      },
      "source": [
        "<a href=\"https://colab.research.google.com/github/Jp-Campos02/Criando-Uma-Assitente-Virtual-do-Zero/blob/main/criando_uma_assistente_virtual.ipynb\" target=\"_parent\"><img src=\"https://colab.research.google.com/assets/colab-badge.svg\" alt=\"Open In Colab\"/></a>"
      ]
    },
    {
      "cell_type": "code",
      "source": [
        "# Biliotecas Necessarias\n",
        "!pip install pyttsx3 # Installs the pyttsx3 library\n",
        "!pip install SpeechRecognition # Installs the SpeechRecognition library\n",
        "!pip install webbrowser # Installs the webbrowser library\n",
        "!sudo apt-get update && sudo apt-get install espeak espeak-ng\n",
        "!sudo apt-get install portaudio19-dev python3-all-dev\n",
        "!pip install pyaudio"
    {
      "cell_type": "markdown",
      "source": [
        "#Código inicial para o Text-to-Speech"
      ],
      "metadata": {
        "id": "SrTy-C-nyhkH"
      }
    },
    {
      "cell_type": "code",
      "execution_count": null,
      "metadata": {
        "colab": {
          "base_uri": "https://localhost:8080/"
        },
        "id": "4UKD5_lCygBD",
        "outputId": "d65fe14a-1ed5-4674-cc51-64ad583b8f43"
      },
      "outputs": [
        {
          "name": "stdout",
          "output_type": "stream",
          "text": [
            "Digite o texto que deseja ouvir: Hello\n"
          ]
        }
      ],
      "source": [
        "import pyttsx3\n",
        "\n",
        "def text_to_speech(text):\n",
        "    # Inicializando o mecanismo de TTS\n",
        "    engine = pyttsx3.init()\n",
        "\n",
        "    # Configurações de voz\n",
        "    voices = engine.getProperty('voices')\n",
        "    engine.setProperty('voice', voices[0].id)  # Escolha a voz padrão (masculina/feminina)\n",
        "    engine.setProperty('rate', 150)  # Velocidade da fala (ajuste se necessário)\n",
        "    engine.setProperty('volume', 1.0)  # Volume máximo\n",
        "\n",
        "    # Executando o texto\n",
        "    engine.say(text)\n",
        "    engine.runAndWait()\n",
        "\n",
        "# Testando o módulo\n",
        "if __name__ == \"__main__\":\n",
        "    texto = input(\"Digite o texto que deseja ouvir: \")\n",
        "    text_to_speech(texto)\n"
      ]
    },
    {
      "cell_type": "markdown",
      "source": [
        "#Código inicial para o Speech-to-Text:\n"
      ],
      "metadata": {
        "id": "cqLMNn1iywXX"
      }
    },
    {
      "cell_type": "code",
      "source": [
        "import speech_recognition as sr\n",
        "\n",
        "def speech_to_text():\n",
        "    recognizer = sr.Recognizer()\n",
        "\n",
        "    # Removendo device_index para usar o padrão\n",
        "    with sr.Microphone() as source:\n",
        "        print(\"Diga algo...\")\n",
        "        try:\n",
        "            recognizer.adjust_for_ambient_noise(source, duration=1)\n",
        "            audio = recognizer.listen(source, timeout=5)\n",
        "            text = recognizer.recognize_google(audio, language=\"pt-BR\")\n",
        "            print(f\"Você disse: {text}\")\n",
        "            return text\n",
        "        except sr.WaitTimeoutError:\n",
        "            print(\"Nenhum áudio detectado dentro do tempo limite.\")\n",
        "        except sr.UnknownValueError:\n",
        "            print(\"Não foi possível reconhecer a fala.\")\n",
        "        except sr.RequestError as e:\n",
        "            print(f\"Erro no serviço de reconhecimento de fala: {e}\")\n",
        "        return None\n",
        "\n",
        "# Testando o módulo\n",
        "if __name__ == \"__main__\":\n",
        "    resultado = speech_to_text()\n",
        "    if resultado:\n",
        "        print(\"Texto reconhecido com sucesso!\")\n"
      ],
      "metadata": {
        "colab": {
          "base_uri": "https://localhost:8080/",
          "height": 373
        },
        "id": "T-1PlGmny06_",
        "outputId": "34e6117a-c419-4e7d-8bb0-f6fccc26d0b9",
        "collapsed": true
      },
      "execution_count": null,
      "outputs": [
        {
          "output_type": "error",
          "ename": "OSError",
          "evalue": "No Default Input Device Available",
          "traceback": [
            "\u001b[0;31m---------------------------------------------------------------------------\u001b[0m",
            "\u001b[0;31mOSError\u001b[0m                                   Traceback (most recent call last)",
            "\u001b[0;32m<ipython-input-15-e4dbbbf1f178>\u001b[0m in \u001b[0;36m<cell line: 0>\u001b[0;34m()\u001b[0m\n\u001b[1;32m     23\u001b[0m \u001b[0;31m# Testando o módulo\u001b[0m\u001b[0;34m\u001b[0m\u001b[0;34m\u001b[0m\u001b[0m\n\u001b[1;32m     24\u001b[0m \u001b[0;32mif\u001b[0m \u001b[0m__name__\u001b[0m \u001b[0;34m==\u001b[0m \u001b[0;34m\"__main__\"\u001b[0m\u001b[0;34m:\u001b[0m\u001b[0;34m\u001b[0m\u001b[0;34m\u001b[0m\u001b[0m\n\u001b[0;32m---> 25\u001b[0;31m     \u001b[0mresultado\u001b[0m \u001b[0;34m=\u001b[0m \u001b[0mspeech_to_text\u001b[0m\u001b[0;34m(\u001b[0m\u001b[0;34m)\u001b[0m\u001b[0;34m\u001b[0m\u001b[0;34m\u001b[0m\u001b[0m\n\u001b[0m\u001b[1;32m     26\u001b[0m     \u001b[0;32mif\u001b[0m \u001b[0mresultado\u001b[0m\u001b[0;34m:\u001b[0m\u001b[0;34m\u001b[0m\u001b[0;34m\u001b[0m\u001b[0m\n\u001b[1;32m     27\u001b[0m         \u001b[0mprint\u001b[0m\u001b[0;34m(\u001b[0m\u001b[0;34m\"Texto reconhecido com sucesso!\"\u001b[0m\u001b[0;34m)\u001b[0m\u001b[0;34m\u001b[0m\u001b[0;34m\u001b[0m\u001b[0m\n",
            "\u001b[0;32m<ipython-input-15-e4dbbbf1f178>\u001b[0m in \u001b[0;36mspeech_to_text\u001b[0;34m()\u001b[0m\n\u001b[1;32m      5\u001b[0m \u001b[0;34m\u001b[0m\u001b[0m\n\u001b[1;32m      6\u001b[0m     \u001b[0;31m# Removendo device_index para usar o padrão\u001b[0m\u001b[0;34m\u001b[0m\u001b[0;34m\u001b[0m\u001b[0m\n\u001b[0;32m----> 7\u001b[0;31m     \u001b[0;32mwith\u001b[0m \u001b[0msr\u001b[0m\u001b[0;34m.\u001b[0m\u001b[0mMicrophone\u001b[0m\u001b[0;34m(\u001b[0m\u001b[0;34m)\u001b[0m \u001b[0;32mas\u001b[0m \u001b[0msource\u001b[0m\u001b[0;34m:\u001b[0m\u001b[0;34m\u001b[0m\u001b[0;34m\u001b[0m\u001b[0m\n\u001b[0m\u001b[1;32m      8\u001b[0m         \u001b[0mprint\u001b[0m\u001b[0;34m(\u001b[0m\u001b[0;34m\"Diga algo...\"\u001b[0m\u001b[0;34m)\u001b[0m\u001b[0;34m\u001b[0m\u001b[0;34m\u001b[0m\u001b[0m\n\u001b[1;32m      9\u001b[0m         \u001b[0;32mtry\u001b[0m\u001b[0;34m:\u001b[0m\u001b[0;34m\u001b[0m\u001b[0;34m\u001b[0m\u001b[0m\n",
            "\u001b[0;32m/usr/local/lib/python3.11/dist-packages/speech_recognition/__init__.py\u001b[0m in \u001b[0;36m__init__\u001b[0;34m(self, device_index, sample_rate, chunk_size)\u001b[0m\n\u001b[1;32m     80\u001b[0m                 \u001b[0;32massert\u001b[0m \u001b[0;36m0\u001b[0m \u001b[0;34m<=\u001b[0m \u001b[0mdevice_index\u001b[0m \u001b[0;34m<\u001b[0m \u001b[0mcount\u001b[0m\u001b[0;34m,\u001b[0m \u001b[0;34m\"Device index out of range ({} devices available; device index should be between 0 and {} inclusive)\"\u001b[0m\u001b[0;34m.\u001b[0m\u001b[0mformat\u001b[0m\u001b[0;34m(\u001b[0m\u001b[0mcount\u001b[0m\u001b[0;34m,\u001b[0m \u001b[0mcount\u001b[0m \u001b[0;34m-\u001b[0m \u001b[0;36m1\u001b[0m\u001b[0;34m)\u001b[0m\u001b[0;34m\u001b[0m\u001b[0;34m\u001b[0m\u001b[0m\n\u001b[1;32m     81\u001b[0m             \u001b[0;32mif\u001b[0m \u001b[0msample_rate\u001b[0m \u001b[0;32mis\u001b[0m \u001b[0;32mNone\u001b[0m\u001b[0;34m:\u001b[0m  \u001b[0;31m# automatically set the sample rate to the hardware's default sample rate if not specified\u001b[0m\u001b[0;34m\u001b[0m\u001b[0;34m\u001b[0m\u001b[0m\n\u001b[0;32m---> 82\u001b[0;31m                 \u001b[0mdevice_info\u001b[0m \u001b[0;34m=\u001b[0m \u001b[0maudio\u001b[0m\u001b[0;34m.\u001b[0m\u001b[0mget_device_info_by_index\u001b[0m\u001b[0;34m(\u001b[0m\u001b[0mdevice_index\u001b[0m\u001b[0;34m)\u001b[0m \u001b[0;32mif\u001b[0m \u001b[0mdevice_index\u001b[0m \u001b[0;32mis\u001b[0m \u001b[0;32mnot\u001b[0m \u001b[0;32mNone\u001b[0m \u001b[0;32melse\u001b[0m \u001b[0maudio\u001b[0m\u001b[0;34m.\u001b[0m\u001b[0mget_default_input_device_info\u001b[0m\u001b[0;34m(\u001b[0m\u001b[0;34m)\u001b[0m\u001b[0;34m\u001b[0m\u001b[0;34m\u001b[0m\u001b[0m\n\u001b[0m\u001b[1;32m     83\u001b[0m                 \u001b[0;32massert\u001b[0m \u001b[0misinstance\u001b[0m\u001b[0;34m(\u001b[0m\u001b[0mdevice_info\u001b[0m\u001b[0;34m.\u001b[0m\u001b[0mget\u001b[0m\u001b[0;34m(\u001b[0m\u001b[0;34m\"defaultSampleRate\"\u001b[0m\u001b[0;34m)\u001b[0m\u001b[0;34m,\u001b[0m \u001b[0;34m(\u001b[0m\u001b[0mfloat\u001b[0m\u001b[0;34m,\u001b[0m \u001b[0mint\u001b[0m\u001b[0;34m)\u001b[0m\u001b[0;34m)\u001b[0m \u001b[0;32mand\u001b[0m \u001b[0mdevice_info\u001b[0m\u001b[0;34m[\u001b[0m\u001b[0;34m\"defaultSampleRate\"\u001b[0m\u001b[0;34m]\u001b[0m \u001b[0;34m>\u001b[0m \u001b[0;36m0\u001b[0m\u001b[0;34m,\u001b[0m \u001b[0;34m\"Invalid device info returned from PyAudio: {}\"\u001b[0m\u001b[0;34m.\u001b[0m\u001b[0mformat\u001b[0m\u001b[0;34m(\u001b[0m\u001b[0mdevice_info\u001b[0m\u001b[0;34m)\u001b[0m\u001b[0;34m\u001b[0m\u001b[0;34m\u001b[0m\u001b[0m\n\u001b[1;32m     84\u001b[0m                 \u001b[0msample_rate\u001b[0m \u001b[0;34m=\u001b[0m \u001b[0mint\u001b[0m\u001b[0;34m(\u001b[0m\u001b[0mdevice_info\u001b[0m\u001b[0;34m[\u001b[0m\u001b[0;34m\"defaultSampleRate\"\u001b[0m\u001b[0;34m]\u001b[0m\u001b[0;34m)\u001b[0m\u001b[0;34m\u001b[0m\u001b[0;34m\u001b[0m\u001b[0m\n",
            "\u001b[0;32m/usr/local/lib/python3.11/dist-packages/pyaudio/__init__.py\u001b[0m in \u001b[0;36mget_default_input_device_info\u001b[0;34m(self)\u001b[0m\n\u001b[1;32m    810\u001b[0m         \u001b[0;34m:\u001b[0m\u001b[0mrtype\u001b[0m\u001b[0;34m:\u001b[0m \u001b[0mdict\u001b[0m\u001b[0;34m\u001b[0m\u001b[0;34m\u001b[0m\u001b[0m\n\u001b[1;32m    811\u001b[0m         \"\"\"\n\u001b[0;32m--> 812\u001b[0;31m         \u001b[0mdevice_index\u001b[0m \u001b[0;34m=\u001b[0m \u001b[0mpa\u001b[0m\u001b[0;34m.\u001b[0m\u001b[0mget_default_input_device\u001b[0m\u001b[0;34m(\u001b[0m\u001b[0;34m)\u001b[0m\u001b[0;34m\u001b[0m\u001b[0;34m\u001b[0m\u001b[0m\n\u001b[0m\u001b[1;32m    813\u001b[0m         \u001b[0;32mreturn\u001b[0m \u001b[0mself\u001b[0m\u001b[0;34m.\u001b[0m\u001b[0mget_device_info_by_index\u001b[0m\u001b[0;34m(\u001b[0m\u001b[0mdevice_index\u001b[0m\u001b[0;34m)\u001b[0m\u001b[0;34m\u001b[0m\u001b[0;34m\u001b[0m\u001b[0m\n\u001b[1;32m    814\u001b[0m \u001b[0;34m\u001b[0m\u001b[0m\n",
            "\u001b[0;31mOSError\u001b[0m: No Default Input Device Available"
          ]
        }
      ]
    },
    {
      "cell_type": "markdown",
      "source": [
        "Integração dos dois Códigos"
      ],
      "metadata": {
        "id": "C5OA-PQDzN83"
      }
    },
    {
      "cell_type": "code",
      "source": [
        "import pyttsx3\n",
        "import speech_recognition as sr\n",
        "import webbrowser\n",
        "\n",
        "def text_to_speech(text):\n",
        "    engine = pyttsx3.init()\n",
        "    engine.setProperty('rate', 150)\n",
        "    engine.setProperty('volume', 1.0)\n",
        "    engine.say(text)\n",
        "    engine.runAndWait()\n",
        "\n",
        "def speech_to_text():\n",
        "    recognizer = sr.Recognizer()\n",
        "    with sr.Microphone() as source:\n",
        "        print(\"Estou ouvindo...\")\n",
        "        try:\n",
        "            recognizer.adjust_for_ambient_noise(source, duration=1)\n",
        "            audio = recognizer.listen(source, timeout=5)\n",
        "            text = recognizer.recognize_google(audio, language=\"pt-BR\")\n",
        "            print(f\"Você disse: {text}\")\n",
        "            return text.lower()\n",
        "        except sr.WaitTimeoutError:\n",
        "            text_to_speech(\"Tempo limite esgotado. Por favor, tente novamente.\")\n",
        "        except sr.UnknownValueError:\n",
        "            text_to_speech(\"Desculpe, não entendi o que você disse.\")\n",
        "        except sr.RequestError as e:\n",
        "            text_to_speech(f\"Erro no serviço de reconhecimento de fala: {e}\")\n",
        "        return None\n",
        "\n",
        "# Teste da interação\n",
        "if __name__ == \"__main__\":\n",
        "    text_to_speech(\"Olá! Estou pronto para ouvir seu comando.\")\n",
        "    comando = speech_to_text()\n",
        "    if comando:\n",
        "        text_to_speech(f\"Você disse: {comando}\")\n"
      ],
      "metadata": {
        "id": "orj9nI49zUXr"
      },
      "execution_count": null,
      "outputs": []
    },
    {
      "cell_type": "markdown",
      "source": [
        "# Adicionando funcionalidades automatizadas"
      ],
      "metadata": {
        "id": "UWYLjR10zbX6"
      }
    },
    {
      "cell_type": "code",
      "source": [
        "import wikipedia\n",
        "\n",
        "def executar_comando(comando):\n",
        "    if \"youtube\" in comando:\n",
        "        text_to_speech(\"Abrindo o YouTube...\")\n",
        "        webbrowser.open(\"https://www.youtube.com\")\n",
        "    elif \"wikipedia\" in comando:\n",
        "        text_to_speech(\"O que você quer pesquisar no Wikipedia?\")\n",
        "        pesquisa = speech_to_text()\n",
        "        if pesquisa:\n",
        "            try:\n",
        "                resumo = wikipedia.summary(pesquisa, sentences=2, lang=\"pt\")\n",
        "                text_to_speech(f\"Encontrei isso no Wikipedia: {resumo}\")\n",
        "            except wikipedia.exceptions.DisambiguationError:\n",
        "                text_to_speech(\"A pesquisa retornou muitos resultados. Seja mais específico.\")\n",
        "            except wikipedia.exceptions.PageError:\n",
        "                text_to_speech(\"Não encontrei informações sobre isso no Wikipedia.\")\n",
        "    elif \"farmácia\" in comando:\n",
        "        text_to_speech(\"Abrindo o mapa para encontrar a farmácia mais próxima...\")\n",
        "        webbrowser.open(\"https://www.google.com/maps/search/farmácia\")\n",
        "    else:\n",
        "        text_to_speech(\"Desculpe, não reconheci o comando.\")\n",
        "\n",
        "# Integração final\n",
        "if __name__ == \"__main__\":\n",
        "    text_to_speech(\"Olá! Qual comando você deseja executar?\")\n",
        "    comando = speech_to_text()\n",
        "    if comando:\n",
        "        executar_comando(comando)\n"
      ],
      "metadata": {
        "id": "0mp4IdkXzeer"
      },
      "execution_count": null,
      "outputs": []
    }
  ]
}
